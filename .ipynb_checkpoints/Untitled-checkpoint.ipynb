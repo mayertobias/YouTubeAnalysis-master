{
 "cells": [
  {
   "cell_type": "code",
   "execution_count": 1,
   "id": "df53ec97",
   "metadata": {
    "ExecuteTime": {
     "end_time": "2022-07-29T18:06:58.379887Z",
     "start_time": "2022-07-29T18:06:54.204003Z"
    }
   },
   "outputs": [
    {
     "name": "stdout",
     "output_type": "stream",
     "text": [
      "Requirement already satisfied: google-api-python-client in /Users/manojveluchuri/opt/anaconda3/lib/python3.8/site-packages (2.55.0)\n",
      "Requirement already satisfied: google-auth-httplib2>=0.1.0 in /Users/manojveluchuri/opt/anaconda3/lib/python3.8/site-packages (from google-api-python-client) (0.1.0)\n",
      "Requirement already satisfied: google-api-core!=2.0.*,!=2.1.*,!=2.2.*,!=2.3.0,<3.0.0dev,>=1.31.5 in /Users/manojveluchuri/opt/anaconda3/lib/python3.8/site-packages (from google-api-python-client) (2.8.2)\n",
      "Requirement already satisfied: google-auth<3.0.0dev,>=1.19.0 in /Users/manojveluchuri/opt/anaconda3/lib/python3.8/site-packages (from google-api-python-client) (2.9.1)\n",
      "Requirement already satisfied: httplib2<1dev,>=0.15.0 in /Users/manojveluchuri/opt/anaconda3/lib/python3.8/site-packages (from google-api-python-client) (0.20.4)\n",
      "Requirement already satisfied: uritemplate<5,>=3.0.1 in /Users/manojveluchuri/opt/anaconda3/lib/python3.8/site-packages (from google-api-python-client) (4.1.1)\n",
      "Requirement already satisfied: googleapis-common-protos<2.0dev,>=1.56.2 in /Users/manojveluchuri/opt/anaconda3/lib/python3.8/site-packages (from google-api-core!=2.0.*,!=2.1.*,!=2.2.*,!=2.3.0,<3.0.0dev,>=1.31.5->google-api-python-client) (1.56.4)\n",
      "Requirement already satisfied: requests<3.0.0dev,>=2.18.0 in /Users/manojveluchuri/opt/anaconda3/lib/python3.8/site-packages (from google-api-core!=2.0.*,!=2.1.*,!=2.2.*,!=2.3.0,<3.0.0dev,>=1.31.5->google-api-python-client) (2.25.1)\n",
      "Requirement already satisfied: protobuf<5.0.0dev,>=3.15.0 in /Users/manojveluchuri/opt/anaconda3/lib/python3.8/site-packages (from google-api-core!=2.0.*,!=2.1.*,!=2.2.*,!=2.3.0,<3.0.0dev,>=1.31.5->google-api-python-client) (4.21.4)\n",
      "Requirement already satisfied: cachetools<6.0,>=2.0.0 in /Users/manojveluchuri/opt/anaconda3/lib/python3.8/site-packages (from google-auth<3.0.0dev,>=1.19.0->google-api-python-client) (5.2.0)\n",
      "Requirement already satisfied: six>=1.9.0 in /Users/manojveluchuri/opt/anaconda3/lib/python3.8/site-packages (from google-auth<3.0.0dev,>=1.19.0->google-api-python-client) (1.15.0)\n",
      "Requirement already satisfied: rsa<5,>=3.1.4 in /Users/manojveluchuri/opt/anaconda3/lib/python3.8/site-packages (from google-auth<3.0.0dev,>=1.19.0->google-api-python-client) (4.9)\n",
      "Requirement already satisfied: pyasn1-modules>=0.2.1 in /Users/manojveluchuri/opt/anaconda3/lib/python3.8/site-packages (from google-auth<3.0.0dev,>=1.19.0->google-api-python-client) (0.2.8)\n",
      "Requirement already satisfied: pyparsing!=3.0.0,!=3.0.1,!=3.0.2,!=3.0.3,<4,>=2.4.2 in /Users/manojveluchuri/opt/anaconda3/lib/python3.8/site-packages (from httplib2<1dev,>=0.15.0->google-api-python-client) (2.4.7)\n",
      "Requirement already satisfied: pyasn1<0.5.0,>=0.4.6 in /Users/manojveluchuri/opt/anaconda3/lib/python3.8/site-packages (from pyasn1-modules>=0.2.1->google-auth<3.0.0dev,>=1.19.0->google-api-python-client) (0.4.8)\n",
      "Requirement already satisfied: certifi>=2017.4.17 in /Users/manojveluchuri/opt/anaconda3/lib/python3.8/site-packages (from requests<3.0.0dev,>=2.18.0->google-api-core!=2.0.*,!=2.1.*,!=2.2.*,!=2.3.0,<3.0.0dev,>=1.31.5->google-api-python-client) (2020.12.5)\n",
      "Requirement already satisfied: urllib3<1.27,>=1.21.1 in /Users/manojveluchuri/opt/anaconda3/lib/python3.8/site-packages (from requests<3.0.0dev,>=2.18.0->google-api-core!=2.0.*,!=2.1.*,!=2.2.*,!=2.3.0,<3.0.0dev,>=1.31.5->google-api-python-client) (1.26.4)\n",
      "Requirement already satisfied: idna<3,>=2.5 in /Users/manojveluchuri/opt/anaconda3/lib/python3.8/site-packages (from requests<3.0.0dev,>=2.18.0->google-api-core!=2.0.*,!=2.1.*,!=2.2.*,!=2.3.0,<3.0.0dev,>=1.31.5->google-api-python-client) (2.10)\n",
      "Requirement already satisfied: chardet<5,>=3.0.2 in /Users/manojveluchuri/opt/anaconda3/lib/python3.8/site-packages (from requests<3.0.0dev,>=2.18.0->google-api-core!=2.0.*,!=2.1.*,!=2.2.*,!=2.3.0,<3.0.0dev,>=1.31.5->google-api-python-client) (4.0.0)\n",
      "\u001b[33mWARNING: You are using pip version 21.1.3; however, version 22.2.1 is available.\n",
      "You should consider upgrading via the '/Users/manojveluchuri/opt/anaconda3/bin/python -m pip install --upgrade pip' command.\u001b[0m\n",
      "Requirement already satisfied: google-auth in /Users/manojveluchuri/opt/anaconda3/lib/python3.8/site-packages (2.9.1)\n",
      "Requirement already satisfied: google-auth-oauthlib in /Users/manojveluchuri/opt/anaconda3/lib/python3.8/site-packages (0.5.2)\n",
      "Requirement already satisfied: google-auth-httplib2 in /Users/manojveluchuri/opt/anaconda3/lib/python3.8/site-packages (0.1.0)\n",
      "Requirement already satisfied: six>=1.9.0 in /Users/manojveluchuri/opt/anaconda3/lib/python3.8/site-packages (from google-auth) (1.15.0)\n",
      "Requirement already satisfied: rsa<5,>=3.1.4 in /Users/manojveluchuri/opt/anaconda3/lib/python3.8/site-packages (from google-auth) (4.9)\n",
      "Requirement already satisfied: cachetools<6.0,>=2.0.0 in /Users/manojveluchuri/opt/anaconda3/lib/python3.8/site-packages (from google-auth) (5.2.0)\n",
      "Requirement already satisfied: pyasn1-modules>=0.2.1 in /Users/manojveluchuri/opt/anaconda3/lib/python3.8/site-packages (from google-auth) (0.2.8)\n",
      "Requirement already satisfied: pyasn1<0.5.0,>=0.4.6 in /Users/manojveluchuri/opt/anaconda3/lib/python3.8/site-packages (from pyasn1-modules>=0.2.1->google-auth) (0.4.8)\n",
      "Requirement already satisfied: requests-oauthlib>=0.7.0 in /Users/manojveluchuri/opt/anaconda3/lib/python3.8/site-packages (from google-auth-oauthlib) (1.3.1)\n",
      "Requirement already satisfied: requests>=2.0.0 in /Users/manojveluchuri/opt/anaconda3/lib/python3.8/site-packages (from requests-oauthlib>=0.7.0->google-auth-oauthlib) (2.25.1)\n",
      "Requirement already satisfied: oauthlib>=3.0.0 in /Users/manojveluchuri/opt/anaconda3/lib/python3.8/site-packages (from requests-oauthlib>=0.7.0->google-auth-oauthlib) (3.2.0)\n",
      "Requirement already satisfied: urllib3<1.27,>=1.21.1 in /Users/manojveluchuri/opt/anaconda3/lib/python3.8/site-packages (from requests>=2.0.0->requests-oauthlib>=0.7.0->google-auth-oauthlib) (1.26.4)\n",
      "Requirement already satisfied: chardet<5,>=3.0.2 in /Users/manojveluchuri/opt/anaconda3/lib/python3.8/site-packages (from requests>=2.0.0->requests-oauthlib>=0.7.0->google-auth-oauthlib) (4.0.0)\n",
      "Requirement already satisfied: idna<3,>=2.5 in /Users/manojveluchuri/opt/anaconda3/lib/python3.8/site-packages (from requests>=2.0.0->requests-oauthlib>=0.7.0->google-auth-oauthlib) (2.10)\n",
      "Requirement already satisfied: certifi>=2017.4.17 in /Users/manojveluchuri/opt/anaconda3/lib/python3.8/site-packages (from requests>=2.0.0->requests-oauthlib>=0.7.0->google-auth-oauthlib) (2020.12.5)\n",
      "Requirement already satisfied: httplib2>=0.15.0 in /Users/manojveluchuri/opt/anaconda3/lib/python3.8/site-packages (from google-auth-httplib2) (0.20.4)\n",
      "Requirement already satisfied: pyparsing!=3.0.0,!=3.0.1,!=3.0.2,!=3.0.3,<4,>=2.4.2 in /Users/manojveluchuri/opt/anaconda3/lib/python3.8/site-packages (from httplib2>=0.15.0->google-auth-httplib2) (2.4.7)\n",
      "\u001b[33mWARNING: You are using pip version 21.1.3; however, version 22.2.1 is available.\n",
      "You should consider upgrading via the '/Users/manojveluchuri/opt/anaconda3/bin/python -m pip install --upgrade pip' command.\u001b[0m\n"
     ]
    }
   ],
   "source": [
    "!pip install --upgrade google-api-python-client\n",
    "!pip install --upgrade google-auth google-auth-oauthlib google-auth-httplib2"
   ]
  },
  {
   "cell_type": "code",
   "execution_count": 2,
   "id": "476a0148",
   "metadata": {
    "ExecuteTime": {
     "end_time": "2022-07-29T18:07:00.614382Z",
     "start_time": "2022-07-29T18:07:00.453774Z"
    }
   },
   "outputs": [],
   "source": [
    "import os\n",
    "import google.oauth2.credentials\n",
    "import google_auth_oauthlib.flow\n",
    "from googleapiclient.discovery import build\n",
    "from googleapiclient.errors import HttpError\n",
    "from google_auth_oauthlib.flow import InstalledAppFlow\n"
   ]
  },
  {
   "cell_type": "code",
   "execution_count": 7,
   "id": "c9d88f22",
   "metadata": {
    "ExecuteTime": {
     "end_time": "2022-07-29T18:14:28.068022Z",
     "start_time": "2022-07-29T18:14:28.065302Z"
    }
   },
   "outputs": [],
   "source": [
    "\n",
    "SCOPES = ['https://www.googleapis.com/auth/yt-analytics.readonly']\n",
    "\n",
    "API_SERVICE_NAME = 'youtubeAnalytics'\n",
    "API_VERSION = 'v2'\n",
    "CLIENT_SECRETS_FILE = 'MACOS_SECRET.json'\n",
    "def get_service():\n",
    "  flow = InstalledAppFlow.from_client_secrets_file(CLIENT_SECRETS_FILE, SCOPES)\n",
    "  credentials = flow.run_console()\n",
    "  return build(API_SERVICE_NAME, API_VERSION, credentials = credentials)\n",
    "\n",
    "def execute_api_request(client_library_function, **kwargs):\n",
    "  response = client_library_function(\n",
    "    **kwargs\n",
    "  ).execute()\n",
    "\n",
    "  print(response)\n",
    "\n"
   ]
  },
  {
   "cell_type": "code",
   "execution_count": 11,
   "id": "a6142317",
   "metadata": {
    "ExecuteTime": {
     "end_time": "2022-07-29T18:42:46.580667Z",
     "start_time": "2022-07-29T18:42:03.100057Z"
    }
   },
   "outputs": [
    {
     "name": "stdout",
     "output_type": "stream",
     "text": [
      "Please visit this URL to authorize this application: https://accounts.google.com/o/oauth2/auth?response_type=code&client_id=123716374797-4fjskomc89phctbgo39fmev01r3obf6s.apps.googleusercontent.com&redirect_uri=urn%3Aietf%3Awg%3Aoauth%3A2.0%3Aoob&scope=https%3A%2F%2Fwww.googleapis.com%2Fauth%2Fyt-analytics.readonly&state=tcmaunrBhyIs6nQ4QOd2OAmxjy1GKD&prompt=consent&access_type=offline\n",
      "Enter the authorization code: 4/1AdQt8qhMnRyl7-7lBqxeKPxaB6sz_RIbG_5KVluT0Fgr6PW8mXotsum8x4c\n"
     ]
    },
    {
     "ename": "HttpError",
     "evalue": "<HttpError 400 when requesting https://youtubeanalytics.googleapis.com/v2/reports?ids=video%3D%3D763fEvkoQGk&metrics=estimatedMinutesWatched%2Cviews%2Clikes%2CsubscribersGained&dimensions=day&sort=day&alt=json returned \"Required\". Details: \"[{'message': 'Required', 'domain': 'global', 'reason': 'required'}]\">",
     "output_type": "error",
     "traceback": [
      "\u001b[0;31m---------------------------------------------------------------------------\u001b[0m",
      "\u001b[0;31mHttpError\u001b[0m                                 Traceback (most recent call last)",
      "\u001b[0;32m<ipython-input-11-2902d9290266>\u001b[0m in \u001b[0;36m<module>\u001b[0;34m\u001b[0m\n\u001b[1;32m      5\u001b[0m \u001b[0;34m\u001b[0m\u001b[0m\n\u001b[1;32m      6\u001b[0m \u001b[0myoutubeAnalytics\u001b[0m \u001b[0;34m=\u001b[0m \u001b[0mget_service\u001b[0m\u001b[0;34m(\u001b[0m\u001b[0;34m)\u001b[0m\u001b[0;34m\u001b[0m\u001b[0;34m\u001b[0m\u001b[0m\n\u001b[0;32m----> 7\u001b[0;31m execute_api_request(\n\u001b[0m\u001b[1;32m      8\u001b[0m   \u001b[0myoutubeAnalytics\u001b[0m\u001b[0;34m.\u001b[0m\u001b[0mreports\u001b[0m\u001b[0;34m(\u001b[0m\u001b[0;34m)\u001b[0m\u001b[0;34m.\u001b[0m\u001b[0mquery\u001b[0m\u001b[0;34m,\u001b[0m\u001b[0;34m\u001b[0m\u001b[0;34m\u001b[0m\u001b[0m\n\u001b[1;32m      9\u001b[0m   \u001b[0mids\u001b[0m\u001b[0;34m=\u001b[0m\u001b[0;34m'video==763fEvkoQGk'\u001b[0m\u001b[0;34m,\u001b[0m\u001b[0;34m\u001b[0m\u001b[0;34m\u001b[0m\u001b[0m\n",
      "\u001b[0;32m<ipython-input-7-d130fa901e5f>\u001b[0m in \u001b[0;36mexecute_api_request\u001b[0;34m(client_library_function, **kwargs)\u001b[0m\n\u001b[1;32m     10\u001b[0m \u001b[0;34m\u001b[0m\u001b[0m\n\u001b[1;32m     11\u001b[0m \u001b[0;32mdef\u001b[0m \u001b[0mexecute_api_request\u001b[0m\u001b[0;34m(\u001b[0m\u001b[0mclient_library_function\u001b[0m\u001b[0;34m,\u001b[0m \u001b[0;34m**\u001b[0m\u001b[0mkwargs\u001b[0m\u001b[0;34m)\u001b[0m\u001b[0;34m:\u001b[0m\u001b[0;34m\u001b[0m\u001b[0;34m\u001b[0m\u001b[0m\n\u001b[0;32m---> 12\u001b[0;31m   response = client_library_function(\n\u001b[0m\u001b[1;32m     13\u001b[0m     \u001b[0;34m**\u001b[0m\u001b[0mkwargs\u001b[0m\u001b[0;34m\u001b[0m\u001b[0;34m\u001b[0m\u001b[0m\n\u001b[1;32m     14\u001b[0m   ).execute()\n",
      "\u001b[0;32m~/opt/anaconda3/lib/python3.8/site-packages/googleapiclient/_helpers.py\u001b[0m in \u001b[0;36mpositional_wrapper\u001b[0;34m(*args, **kwargs)\u001b[0m\n\u001b[1;32m    128\u001b[0m                 \u001b[0;32melif\u001b[0m \u001b[0mpositional_parameters_enforcement\u001b[0m \u001b[0;34m==\u001b[0m \u001b[0mPOSITIONAL_WARNING\u001b[0m\u001b[0;34m:\u001b[0m\u001b[0;34m\u001b[0m\u001b[0;34m\u001b[0m\u001b[0m\n\u001b[1;32m    129\u001b[0m                     \u001b[0mlogger\u001b[0m\u001b[0;34m.\u001b[0m\u001b[0mwarning\u001b[0m\u001b[0;34m(\u001b[0m\u001b[0mmessage\u001b[0m\u001b[0;34m)\u001b[0m\u001b[0;34m\u001b[0m\u001b[0;34m\u001b[0m\u001b[0m\n\u001b[0;32m--> 130\u001b[0;31m             \u001b[0;32mreturn\u001b[0m \u001b[0mwrapped\u001b[0m\u001b[0;34m(\u001b[0m\u001b[0;34m*\u001b[0m\u001b[0margs\u001b[0m\u001b[0;34m,\u001b[0m \u001b[0;34m**\u001b[0m\u001b[0mkwargs\u001b[0m\u001b[0;34m)\u001b[0m\u001b[0;34m\u001b[0m\u001b[0;34m\u001b[0m\u001b[0m\n\u001b[0m\u001b[1;32m    131\u001b[0m \u001b[0;34m\u001b[0m\u001b[0m\n\u001b[1;32m    132\u001b[0m         \u001b[0;32mreturn\u001b[0m \u001b[0mpositional_wrapper\u001b[0m\u001b[0;34m\u001b[0m\u001b[0;34m\u001b[0m\u001b[0m\n",
      "\u001b[0;32m~/opt/anaconda3/lib/python3.8/site-packages/googleapiclient/http.py\u001b[0m in \u001b[0;36mexecute\u001b[0;34m(self, http, num_retries)\u001b[0m\n\u001b[1;32m    936\u001b[0m             \u001b[0mcallback\u001b[0m\u001b[0;34m(\u001b[0m\u001b[0mresp\u001b[0m\u001b[0;34m)\u001b[0m\u001b[0;34m\u001b[0m\u001b[0;34m\u001b[0m\u001b[0m\n\u001b[1;32m    937\u001b[0m         \u001b[0;32mif\u001b[0m \u001b[0mresp\u001b[0m\u001b[0;34m.\u001b[0m\u001b[0mstatus\u001b[0m \u001b[0;34m>=\u001b[0m \u001b[0;36m300\u001b[0m\u001b[0;34m:\u001b[0m\u001b[0;34m\u001b[0m\u001b[0;34m\u001b[0m\u001b[0m\n\u001b[0;32m--> 938\u001b[0;31m             \u001b[0;32mraise\u001b[0m \u001b[0mHttpError\u001b[0m\u001b[0;34m(\u001b[0m\u001b[0mresp\u001b[0m\u001b[0;34m,\u001b[0m \u001b[0mcontent\u001b[0m\u001b[0;34m,\u001b[0m \u001b[0muri\u001b[0m\u001b[0;34m=\u001b[0m\u001b[0mself\u001b[0m\u001b[0;34m.\u001b[0m\u001b[0muri\u001b[0m\u001b[0;34m)\u001b[0m\u001b[0;34m\u001b[0m\u001b[0;34m\u001b[0m\u001b[0m\n\u001b[0m\u001b[1;32m    939\u001b[0m         \u001b[0;32mreturn\u001b[0m \u001b[0mself\u001b[0m\u001b[0;34m.\u001b[0m\u001b[0mpostproc\u001b[0m\u001b[0;34m(\u001b[0m\u001b[0mresp\u001b[0m\u001b[0;34m,\u001b[0m \u001b[0mcontent\u001b[0m\u001b[0;34m)\u001b[0m\u001b[0;34m\u001b[0m\u001b[0;34m\u001b[0m\u001b[0m\n\u001b[1;32m    940\u001b[0m \u001b[0;34m\u001b[0m\u001b[0m\n",
      "\u001b[0;31mHttpError\u001b[0m: <HttpError 400 when requesting https://youtubeanalytics.googleapis.com/v2/reports?ids=video%3D%3D763fEvkoQGk&metrics=estimatedMinutesWatched%2Cviews%2Clikes%2CsubscribersGained&dimensions=day&sort=day&alt=json returned \"Required\". Details: \"[{'message': 'Required', 'domain': 'global', 'reason': 'required'}]\">"
     ]
    }
   ],
   "source": [
    "#if __name__ == '__main__':\n",
    "  # Disable OAuthlib's HTTPs verification when running locally.\n",
    "  # *DO NOT* leave this option enabled when running in production.\n",
    "os.environ['OAUTHLIB_INSECURE_TRANSPORT'] = '1'\n",
    "\n",
    "youtubeAnalytics = get_service()\n",
    "execute_api_request(\n",
    "  youtubeAnalytics.reports().query,\n",
    "  ids='video==ucreeAd_4xk',\n",
    "  startDate='2022-05-01',\n",
    "  endDate='2022-07-29',\n",
    "  metrics='estimatedMinutesWatched,views,likes,subscribersGained',\n",
    "  dimensions='day',\n",
    "  sort='day'\n",
    ")"
   ]
  },
  {
   "cell_type": "code",
   "execution_count": null,
   "id": "7ceb6e68",
   "metadata": {},
   "outputs": [],
   "source": []
  }
 ],
 "metadata": {
  "hide_input": false,
  "kernelspec": {
   "display_name": "Python 3",
   "language": "python",
   "name": "python3"
  },
  "language_info": {
   "codemirror_mode": {
    "name": "ipython",
    "version": 3
   },
   "file_extension": ".py",
   "mimetype": "text/x-python",
   "name": "python",
   "nbconvert_exporter": "python",
   "pygments_lexer": "ipython3",
   "version": "3.8.8"
  },
  "toc": {
   "base_numbering": 1,
   "nav_menu": {},
   "number_sections": true,
   "sideBar": true,
   "skip_h1_title": false,
   "title_cell": "Table of Contents",
   "title_sidebar": "Contents",
   "toc_cell": false,
   "toc_position": {},
   "toc_section_display": true,
   "toc_window_display": false
  },
  "varInspector": {
   "cols": {
    "lenName": 16,
    "lenType": 16,
    "lenVar": 40
   },
   "kernels_config": {
    "python": {
     "delete_cmd_postfix": "",
     "delete_cmd_prefix": "del ",
     "library": "var_list.py",
     "varRefreshCmd": "print(var_dic_list())"
    },
    "r": {
     "delete_cmd_postfix": ") ",
     "delete_cmd_prefix": "rm(",
     "library": "var_list.r",
     "varRefreshCmd": "cat(var_dic_list()) "
    }
   },
   "types_to_exclude": [
    "module",
    "function",
    "builtin_function_or_method",
    "instance",
    "_Feature"
   ],
   "window_display": false
  }
 },
 "nbformat": 4,
 "nbformat_minor": 5
}
